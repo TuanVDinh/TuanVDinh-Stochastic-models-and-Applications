{
 "cells": [
  {
   "cell_type": "code",
   "execution_count": 24,
   "id": "fd3c8ba2",
   "metadata": {},
   "outputs": [
    {
     "name": "stdout",
     "output_type": "stream",
     "text": [
      "Thoi gian trung binh:  3.1914893617021276\n"
     ]
    }
   ],
   "source": [
    "# Stochastic models and Applications\n",
    "# Assignments of week 8, Q5\n",
    "# Tuan Van Dinh - Hanoi University of Science and Technology\n",
    "# 04.May.2022\n",
    "###########################################\n",
    "\n",
    "import numpy as np\n",
    "\n",
    "# Chuong trinh: Tim thoi gian trung binh xuat phat tu trang thai i cham vao trang thai hut j\n",
    "# Ma tran trang thai co dang I = {0,1,2,...}\n",
    "\n",
    "def tgian_tb(p,state_i,state_j):\n",
    "    \n",
    "    \"\"\"\n",
    "    Inputs:\n",
    "        p: ma tran xac suat chuyen, 2-d array\n",
    "        state_i: trang thai xuat phat\n",
    "        state_j: trang thai hut\n",
    "    Giai phuong trinh: ax = b, x chua cac gia tri cua thoi gian trung binh\n",
    "    \n",
    "    Output: thoi gian trung binh tu i cham vao j\n",
    "    \"\"\"\n",
    "    n_states = len(p[0]) # So luong trang thai\n",
    "    a = np.zeros((n_states, n_states))\n",
    "    b = np.empty(n_states)\n",
    "    b.fill(-1)\n",
    "    b[state_j] = 0\n",
    "    a[state_j][state_j] = 1\n",
    "    for i in range(n_states):\n",
    "        for j in range(n_states):\n",
    "            if i != state_j and j != state_j:\n",
    "                if i==j:\n",
    "                    a[i][j] = p[i][j] - 1\n",
    "                else:\n",
    "                    a[i][j] = p[i][j]\n",
    "    x = np.linalg.solve(a, b)\n",
    "    time_tb = x[state_i]\n",
    "    return time_tb"
   ]
  },
  {
   "cell_type": "code",
   "execution_count": null,
   "id": "c6ff3b78",
   "metadata": {},
   "outputs": [],
   "source": [
    "# Test cau 1b)\n",
    "# Thoi gian trung binh xuat phat tu trang thai 2 cham vao trang thai hut 0\n",
    "p = np.array([[1,0,0,0], [0.5,0.4,0.2,0.2], [0.3,0.3,0.2,0.2],[0.5,0,0.3,0.2]])\n",
    "time_tb = tgian_tb(p,2,0)\n",
    "print(\"Thoi gian trung binh: \", time_tb)"
   ]
  },
  {
   "cell_type": "code",
   "execution_count": 27,
   "id": "dd27934d",
   "metadata": {},
   "outputs": [
    {
     "name": "stdout",
     "output_type": "stream",
     "text": [
      "Thoi gian trung binh con chuot roi vao bay:  17.999999999999993\n"
     ]
    }
   ],
   "source": [
    "# Test cau 3c)\n",
    "# Thoi gian trung binh xuat phat tu trang thai 2 cham vao trang thai hut 0\n",
    "p = np.array([[0, 1/2, 0, 1/2, 0, 0, 0, 0, 0],\n",
    "[1/3, 0, 1/3, 0, 1/3, 0, 0, 0, 0],\n",
    "[0, 1/2, 0, 0, 0, 1/2, 0, 0, 0],\n",
    "[1/3, 0, 0, 0, 1/3, 0, 1/3, 0, 0],\n",
    "[0, 1/4, 0, 1/4, 0, 1/4, 0, 1/4, 0],\n",
    "[0, 0, 1/3, 0, 1/3, 0, 0, 0, 1/3],\n",
    "[0, 0, 0, 1/2, 0, 0, 0, 1/2, 0],\n",
    "[0, 0, 0, 0, 1/3, 0, 1/3, 0, 1/3],\n",
    "[0, 0, 0, 0, 0, 0, 0, 0, 1]])\n",
    "time_tb = tgian_tb(p,0,8)\n",
    "print(\"Thoi gian trung binh con chuot roi vao bay: \", time_tb)"
   ]
  },
  {
   "cell_type": "code",
   "execution_count": null,
   "id": "9ce7e5fe",
   "metadata": {},
   "outputs": [],
   "source": []
  }
 ],
 "metadata": {
  "kernelspec": {
   "display_name": "Python 3",
   "language": "python",
   "name": "python3"
  },
  "language_info": {
   "codemirror_mode": {
    "name": "ipython",
    "version": 3
   },
   "file_extension": ".py",
   "mimetype": "text/x-python",
   "name": "python",
   "nbconvert_exporter": "python",
   "pygments_lexer": "ipython3",
   "version": "3.8.5"
  }
 },
 "nbformat": 4,
 "nbformat_minor": 5
}
