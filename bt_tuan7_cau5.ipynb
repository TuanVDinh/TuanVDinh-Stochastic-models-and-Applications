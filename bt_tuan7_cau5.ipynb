{
 "cells": [
  {
   "cell_type": "code",
   "execution_count": 36,
   "id": "fd3c8ba2",
   "metadata": {},
   "outputs": [],
   "source": [
    "# Stochastic models and Applications\n",
    "# Assignments of week 7, Q5\n",
    "# Tuan Van Dinh - Hanoi University of Science and Technology\n",
    "# 11.April.2022\n",
    "###########################################\n",
    "\n",
    "# Chuong trinh: Tim phan phoi dung cua xich Markov biet khong gian trang thai I va ma tran xac suat chuyen P\n",
    "import numpy as np\n",
    "\n",
    "def ppdung(p):\n",
    "    \n",
    "    \"\"\"\n",
    "    Inputs:\n",
    "        p: ma tran xac suat chuyen, 2-d array\n",
    "    Giai phuong trinh: a*lambda = b, phan phoi dung lambda\n",
    "\n",
    "    Output: phan phoi dung lambda\n",
    "    \"\"\"\n",
    "    n_states = len(p[0]) # So luong trang thai\n",
    "    a = np.zeros((n_states, n_states))\n",
    "    b = np.empty(n_states)\n",
    "    b.fill(0)\n",
    "    b[n_states-1] = 1\n",
    "    p_transpose = p.transpose()\n",
    "    for i in range(n_states):\n",
    "        a[n_states-1][i] = 1\n",
    "    for i in range(1, n_states):\n",
    "        for j in range(n_states):\n",
    "            if i != j:\n",
    "                a[i-1][j] = p_transpose[i][j]\n",
    "            else:\n",
    "                a[i-1][j] = p_transpose[i][j] - 1\n",
    "    lamb_da = np.linalg.solve(a, b)\n",
    "    return lamb_da"
   ]
  },
  {
   "cell_type": "code",
   "execution_count": 37,
   "id": "91f07e70",
   "metadata": {},
   "outputs": [
    {
     "name": "stdout",
     "output_type": "stream",
     "text": [
      "Phan phoi dung: [0.05172358 0.05120112 0.05225681 0.84481849]\n"
     ]
    }
   ],
   "source": [
    "# Test\n",
    "# Cau 3b, bai tap tuan 7\n",
    "p = np.array([[0.02 , 49/150 , 49/150 , 49/150],[33/100 , 0.01 , 33/100 , 33/100], \n",
    "              [97/300 , 97/300 , 0.03 , 97/300],[0.02  , 0.02  , 0.02  , 0.94]])\n",
    "lamb_da = ppdung(p)\n",
    "print(\"Phan phoi dung:\", lamb_da)\n"
   ]
  },
  {
   "cell_type": "code",
   "execution_count": null,
   "id": "9ce7e5fe",
   "metadata": {},
   "outputs": [],
   "source": []
  }
 ],
 "metadata": {
  "kernelspec": {
   "display_name": "Python 3",
   "language": "python",
   "name": "python3"
  },
  "language_info": {
   "codemirror_mode": {
    "name": "ipython",
    "version": 3
   },
   "file_extension": ".py",
   "mimetype": "text/x-python",
   "name": "python",
   "nbconvert_exporter": "python",
   "pygments_lexer": "ipython3",
   "version": "3.8.8"
  }
 },
 "nbformat": 4,
 "nbformat_minor": 5
}
