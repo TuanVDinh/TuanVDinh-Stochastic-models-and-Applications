{
 "cells": [
  {
   "cell_type": "code",
   "execution_count": 11,
   "id": "66b86298",
   "metadata": {},
   "outputs": [],
   "source": [
    "# Stochastic models and Applications\n",
    "# Assignments of week 7, Q4\n",
    "# Tuan Van Dinh - Hanoi University of Science and Technology\n",
    "# 11.April.2022\n",
    "###########################################\n",
    "\n",
    "# Tim chu ky cua xich Markov biet khong gian trang thai I va ma tran xac suat chuyen P\n",
    "\n",
    "import numpy as np\n",
    "\n",
    "def check_pii(p, states, state_i, n = 10000):\n",
    "    \"\"\"\n",
    "    Ham tim cac buoc n thoa man p_ii(n) > 0.\n",
    "    Inputs:\n",
    "        p: ma tran xac suat chuyen\n",
    "        states: khong gian cac trang thai\n",
    "        state_i: Trang thai can kiem tra\n",
    "        n: so buoc muon kiem tra p_ii(n)\n",
    "    Output:\n",
    "        n_arr: mot list chua cac buoc n ma o do p_ii(n) > 0.\n",
    "    \"\"\"\n",
    "    index_dict = {states[index]: index for index in range(len(states))}\n",
    "    identity_mat = np.identity(len(p))\n",
    "    p_mat = identity_mat\n",
    "    i = index_dict[state_i]\n",
    "    n_arr = []\n",
    "    for j in range(1, n + 1):\n",
    "        p_mat = np.dot(p,p_mat)\n",
    "        if p_mat[i][i] > 0:\n",
    "            n_arr.append(j)\n",
    "    return n_arr"
   ]
  },
  {
   "cell_type": "code",
   "execution_count": 12,
   "id": "91f07e70",
   "metadata": {},
   "outputs": [],
   "source": [
    "def gcd(m,n):\n",
    "    \"\"\"\n",
    "    Thuat toan Euclid tim UCLN gcd(m,n)\n",
    "    Inputs: \n",
    "        m, n la cac so nguyen duong\n",
    "    Output: UCLN(m,n)\n",
    "    \"\"\"\n",
    "    if n==0:\n",
    "        return m\n",
    "    else:\n",
    "        return gcd(n, m%n)"
   ]
  },
  {
   "cell_type": "code",
   "execution_count": 13,
   "id": "9ce7e5fe",
   "metadata": {},
   "outputs": [],
   "source": [
    "def find_period(n_arr):\n",
    "    \"\"\"\n",
    "    Ham tim chu ky cua cac trang thai\n",
    "    Inputs: \n",
    "        n_arr: list gom n phan tu\n",
    "    Output: UCLN cua n phan tu\n",
    "    \"\"\"\n",
    "    if len(n_arr) == 0: # p_ii(n) = 0, d(i) = ∞ (vo cung)\n",
    "        return 0\n",
    "    else:\n",
    "        d = gcd(n_arr[0], n_arr[1])\n",
    "        for i in range(2, len(n_arr)):\n",
    "            if d == 1:\n",
    "                return 1\n",
    "            else:\n",
    "                d = gcd(d, n_arr[i])\n",
    "    return d\n",
    "    "
   ]
  },
  {
   "cell_type": "code",
   "execution_count": 14,
   "id": "82aa2c68",
   "metadata": {},
   "outputs": [],
   "source": [
    "def print_period(p, states, n = 10000):\n",
    "    \"\"\"\n",
    "    Inputs:\n",
    "        p: ma tran xac suat chuyen\n",
    "        states: khong gian cac trang thai\n",
    "        state_i: Trang thai can kiem tra\n",
    "    Output:\n",
    "        Dict gom trang thai va chu ky tuong ung voi trang thai do\n",
    "    \"\"\"\n",
    "    period_dict = {}\n",
    "    for i in range(len(states)):\n",
    "        state_i = states[i]\n",
    "        n_arr = check_pii(p, states, state_i, n)\n",
    "        period = find_period(n_arr)\n",
    "        if period == 0:\n",
    "            period_dict[f\"d({state_i})\"] = \"∞\"\n",
    "        else:\n",
    "            period_dict[f\"d({state_i})\"] = period\n",
    "    print(\"Chu ky cua cac trang thai:\")\n",
    "    print(period_dict)"
   ]
  },
  {
   "cell_type": "code",
   "execution_count": 19,
   "id": "8d276c4f",
   "metadata": {},
   "outputs": [
    {
     "name": "stdout",
     "output_type": "stream",
     "text": [
      "Chu ky cua cac trang thai:\n",
      "{'d(0)': '∞', 'd(1)': 1, 'd(2)': 1, 'd(3)': 1, 'd(4)': 1, 'd(5)': 1, 'd(6)': 1}\n"
     ]
    }
   ],
   "source": [
    "# Test \n",
    "# Cau 2b)\n",
    "p = np.array([[0 , 0 , 0.18 , 0 , 0 , 0 , 0.82],\n",
    "[0 , 0.99 , 0 , 0 , 0.01 , 0 , 0],\n",
    "[0 , 0 , 0.8 , 0 , 0 , 0.2 , 0],\n",
    "[0 , 0.3 , 0.4 , 0.3 , 0 , 0 , 0],\n",
    "[0 , 0.5 , 0 , 0 , 0.2 , 0 , 0.3],\n",
    "[0 , 0 , 0.18 , 0 , 0 , 0.82 , 0],\n",
    "[0 , 0.5 , 0 , 0 , 0 , 0 , 0.5]])\n",
    "states = [\"0\", \"1\", \"2\", \"3\",\"4\",\"5\",\"6\"]\n",
    "print_period(p, states, n = 10000)"
   ]
  },
  {
   "cell_type": "code",
   "execution_count": 20,
   "id": "0202ba3d",
   "metadata": {},
   "outputs": [
    {
     "name": "stdout",
     "output_type": "stream",
     "text": [
      "Chu ky cua cac trang thai:\n",
      "{'d(A)': 1, 'd(B)': 1, 'd(C)': 1, 'd(D)': 1}\n"
     ]
    }
   ],
   "source": [
    "# Test\n",
    "p = np.array([[0.02 , 49/150 , 49/150 , 49/150],[33/100 , 0.01 , 33/100 , 33/100], \n",
    "              [97/300 , 97/300 , 0.03 , 97/300],[0.02  , 0.02  , 0.02  , 0.94]])\n",
    "states = [\"A\", \"B\", \"C\", \"D\"]\n",
    "print_period(p, states, n = 10000)"
   ]
  },
  {
   "cell_type": "code",
   "execution_count": 21,
   "id": "1169c500",
   "metadata": {},
   "outputs": [
    {
     "name": "stdout",
     "output_type": "stream",
     "text": [
      "Chu ky cua cac trang thai:\n",
      "{'d(0)': 3, 'd(1)': 3, 'd(2)': 3, 'd(3)': 3}\n"
     ]
    }
   ],
   "source": [
    "# Test\n",
    "p = np.array([[0 , 0 , 1/2 , 1/2],[1 , 0 , 0 , 0], \n",
    "              [0 , 1 , 0 , 0],[0 , 1 , 0 , 0]])\n",
    "states = [\"0\", \"1\", \"2\", \"3\"]\n",
    "print_period(p, states, n = 10000)"
   ]
  },
  {
   "cell_type": "code",
   "execution_count": null,
   "id": "2f2ae180",
   "metadata": {},
   "outputs": [],
   "source": []
  }
 ],
 "metadata": {
  "kernelspec": {
   "display_name": "Python 3",
   "language": "python",
   "name": "python3"
  },
  "language_info": {
   "codemirror_mode": {
    "name": "ipython",
    "version": 3
   },
   "file_extension": ".py",
   "mimetype": "text/x-python",
   "name": "python",
   "nbconvert_exporter": "python",
   "pygments_lexer": "ipython3",
   "version": "3.8.8"
  }
 },
 "nbformat": 4,
 "nbformat_minor": 5
}
