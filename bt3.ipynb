{
 "cells": [
  {
   "cell_type": "code",
   "execution_count": 1,
   "id": "a07cd34c",
   "metadata": {},
   "outputs": [
    {
     "name": "stdout",
     "output_type": "stream",
     "text": [
      "Printing the Eigen values of P:\n",
      " [ 1.   -0.81]\n",
      "Printing Right eigenvectors of P:\n",
      " [[ 0.70710678 -0.63788607]\n",
      " [ 0.70710678  0.77013074]]\n"
     ]
    }
   ],
   "source": [
    "import numpy as np\n",
    "\n",
    "# Ma tran xac suat chuyen\n",
    "P = np.array([[0.18,0.82],\n",
    "\t\t\t[0.99, 0.01]])\n",
    "\t\t\t\n",
    "# finding eigenvalues and eigenvectors\n",
    "w, v = np.linalg.eig(P)\n",
    "\n",
    "# eigen values\n",
    "print(\"Printing the Eigen values of P:\\n\",\n",
    "\tw)\n",
    "\n",
    "# printing eigen vectors\n",
    "print(\"Printing Right eigenvectors of P:\\n\",\n",
    "\tv)\n",
    "\n"
   ]
  },
  {
   "cell_type": "code",
   "execution_count": null,
   "id": "36b9e2e3",
   "metadata": {},
   "outputs": [],
   "source": []
  }
 ],
 "metadata": {
  "kernelspec": {
   "display_name": "Python 3 (ipykernel)",
   "language": "python",
   "name": "python3"
  },
  "language_info": {
   "codemirror_mode": {
    "name": "ipython",
    "version": 3
   },
   "file_extension": ".py",
   "mimetype": "text/x-python",
   "name": "python",
   "nbconvert_exporter": "python",
   "pygments_lexer": "ipython3",
   "version": "3.8.5"
  }
 },
 "nbformat": 4,
 "nbformat_minor": 5
}
