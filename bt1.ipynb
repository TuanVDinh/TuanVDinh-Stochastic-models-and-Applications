{
 "cells": [
  {
   "cell_type": "code",
   "execution_count": 2,
   "id": "8ab9ab89",
   "metadata": {},
   "outputs": [
    {
     "name": "stdout",
     "output_type": "stream",
     "text": [
      "Ma tran xac suat chuyen sau 2 buoc P^(2) la :\n",
      "[[0.344  0.366  0.24   0.05  ]\n",
      " [0.2236 0.4144 0.22   0.142 ]\n",
      " [0.234  0.366  0.26   0.14  ]\n",
      " [0.054  0.366  0.06   0.52  ]]\n",
      "Xac suat chuyen P_10 la:\n",
      "0.2236\n",
      "\n",
      "Ma tran xac suat chuyen sau 3 buoc P^(3) la :\n",
      "[[0.28588  0.38052  0.238    0.0956  ]\n",
      " [0.230392 0.391168 0.2156   0.16284 ]\n",
      " [0.23488  0.38052  0.224    0.1606  ]\n",
      " [0.10488  0.38052  0.108    0.4066  ]]\n",
      "\n",
      "Ma tran xac suat chuyen sau 4 buoc P^(4) la :\n",
      "[[0.2590336  0.3837144  0.22848    0.128772  ]\n",
      " [0.22872624 0.38605696 0.210552   0.1746648 ]\n",
      " [0.2307336  0.3837144  0.21268    0.172872  ]\n",
      " [0.1425336  0.3837144  0.14028    0.333472  ]]\n"
     ]
    }
   ],
   "source": [
    "import numpy as np\n",
    "\n",
    "P = np.array([[0.5,0.3,0.2,0], [0.18,0.52,0.2,0.1], [0.2,0.3,0.4,0.1], [0,0.3,0,0.7]])\n",
    "P2 = P.dot(P)\n",
    "print(\"Ma tran xac suat chuyen sau 2 buoc P^(2) la :\")\n",
    "print(P2)\n",
    "print(\"Xac suat chuyen P_10 la:\")\n",
    "print(P2[1][0])\n",
    "\n",
    "P3 = P2.dot(P)\n",
    "print(\"\\nMa tran xac suat chuyen sau 3 buoc P^(3) la :\")\n",
    "print(P3)\n",
    "\n",
    "P4 = P3.dot(P)\n",
    "print(\"\\nMa tran xac suat chuyen sau 4 buoc P^(4) la :\")\n",
    "print(P4)"
   ]
  },
  {
   "cell_type": "code",
   "execution_count": null,
   "id": "4d035fac",
   "metadata": {},
   "outputs": [],
   "source": []
  }
 ],
 "metadata": {
  "kernelspec": {
   "display_name": "Python 3 (ipykernel)",
   "language": "python",
   "name": "python3"
  },
  "language_info": {
   "codemirror_mode": {
    "name": "ipython",
    "version": 3
   },
   "file_extension": ".py",
   "mimetype": "text/x-python",
   "name": "python",
   "nbconvert_exporter": "python",
   "pygments_lexer": "ipython3",
   "version": "3.8.5"
  }
 },
 "nbformat": 4,
 "nbformat_minor": 5
}
